{
 "cells": [
  {
   "cell_type": "markdown",
   "metadata": {},
   "source": [
    "# Using Bokeh to Create an Interactive Map"
   ]
  },
  {
   "cell_type": "markdown",
   "metadata": {},
   "source": [
    "This is the second part of the NLP-Example.py code, where the coordinates of the place names within the poem are mapped."
   ]
  },
  {
   "cell_type": "code",
   "execution_count": 7,
   "metadata": {},
   "outputs": [],
   "source": [
    "'''\n",
    "    -*- coding: utf-8 -*-\n",
    "    Python Version: 3.6\n",
    "    Course: GEOG5790M; Advanced Skills; @UniversityofLeeds\n",
    "    Practical: 8; NLTK\n",
    "    Author: kmbutterfield\n",
    "    File name: NLP-Example.py\n",
    "    Description: Finding location names within T.S. Eliot's \"The Waste Land\".\n",
    "'''\n",
    "\n",
    "import os\n",
    "import pandas as pd\n",
    "import bokeh\n",
    "from bokeh.io import output_notebook, show\n",
    "from pyproj import Proj, transform \n",
    "from bokeh.plotting import figure\n",
    "from bokeh.tile_providers import CARTODBPOSITRON\n",
    "from bokeh.models import (GMapPlot, GMapOptions, ColumnDataSource, \n",
    "                          Circle, Range1d, PanTool, ZoomInTool,\n",
    "                          ZoomOutTool, HoverTool)\n",
    "\n",
    "''' Reading the CSV file and Assigning Tools '''\n",
    "# Open the CSV containing locations names.\n",
    "places = pd.read_csv(\"places-locations.csv\", encoding=\"cp1252\")\n",
    "\n",
    "# What to show when a dot is hovered over.\n",
    "hover = HoverTool(tooltips=[\n",
    "    (\"Address\", \"@address\"), (\"(Latitude, Longitude)\", \"(@lat, @long)\")])\n",
    "\n",
    "pan = PanTool()\n",
    "zoomin = ZoomInTool()\n",
    "zoomout = ZoomOutTool()\n",
    "\n",
    "# Show the whole world \n",
    "bound = 20000000 # meters\n",
    "\n",
    "''' Designing the Figure '''\n",
    "# Creating Figure hover and title\n",
    "fig = figure(tools=[hover, pan, zoomin, zoomout], x_range=(-bound, bound), y_range=(-bound, bound))\n",
    "fig.axis.visible = False\n",
    "fig.add_tile(CARTODBPOSITRON)\n",
    "fig.title.text = \"Names of Locations found in T.S.Eliots 'The Waste Land'\"\n",
    "\n",
    "# Swiching Spatial Reference\n",
    "inProj = Proj(init='epsg:4326')\n",
    "outProj = Proj(init='epsg:3857')\n",
    "\n",
    "list_lng,list_lat  = [],[]\n",
    "for index, place in places.iterrows():\n",
    "    \n",
    "    longitude, latitude = place.lng, place.lat\n",
    "    longitude1,latitude1 = transform(inProj,outProj,longitude,latitude)\n",
    "    \n",
    "    list_lng.append(longitude1)\n",
    "    list_lat.append(latitude1)\n",
    "\n",
    "# Identifying columns for the hover text display\n",
    "a = {'address': places.address, 'X': list_lng, 'Y': list_lat, 'lat': places.lat, 'long': places.lng}\n",
    "source = ColumnDataSource(a)\n",
    "\n",
    "# Show dots on the map of each location named in the poem\n",
    "circle = fig.circle(x='X', y='Y', alpha=0.5, color=\"green\", size=10, source=source)\n",
    "\n",
    "''' Show the igure in a new tab '''\n",
    "show(fig)"
   ]
  }
 ],
 "metadata": {
  "kernelspec": {
   "display_name": "Python 3",
   "language": "python",
   "name": "python3"
  },
  "language_info": {
   "codemirror_mode": {
    "name": "ipython",
    "version": 3
   },
   "file_extension": ".py",
   "mimetype": "text/x-python",
   "name": "python",
   "nbconvert_exporter": "python",
   "pygments_lexer": "ipython3",
   "version": "3.5.5"
  }
 },
 "nbformat": 4,
 "nbformat_minor": 2
}
